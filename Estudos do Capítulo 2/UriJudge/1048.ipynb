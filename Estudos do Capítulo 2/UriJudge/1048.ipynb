{
 "cells": [
  {
   "cell_type": "markdown",
   "metadata": {},
   "source": [
    "salario = float(input())\n",
    "aumento = 0\n",
    "novosalario = 0\n",
    "reajuste = 0\n",
    "\n",
    "if salario == 400:\n",
    "    aumento = salario * 0.15\n",
    "    \n",
    "if salario >400 and salario <= 800:\n",
    "    aumento = salario * 0.12\n",
    "    \n",
    "elif salario > 800 and salario <= 1200:\n",
    "    aumento = salario * 0.10\n",
    "\n",
    "elif salario > 1200 and salario <= 2000:\n",
    "    aumento = salario * 0.07\n",
    "\n",
    "elif salario > 2000:\n",
    "    aumento = salario * 0.04\n",
    "\n",
    "novosalario = (salario + aumento)\n",
    "\n",
    "\n",
    "print(novosalario)\n",
    "print(aumento)\n",
    "print(reajuste)"
   ]
  },
  {
   "cell_type": "code",
   "execution_count": 27,
   "metadata": {},
   "outputs": [
    {
     "name": "stdout",
     "output_type": "stream",
     "text": [
      "400\n",
      "460.0\n",
      "60.0\n",
      "Em percentual  15 % \n"
     ]
    }
   ],
   "source": [
    "salario = float(input())\n",
    "aumento = 0\n",
    "novosalario = 0\n",
    "\n",
    "\n",
    "if salario == 400:\n",
    "    aumento = salario * 0.15\n",
    "    novosalario = salario + aumento\n",
    "    print(novosalario)\n",
    "    print(aumento)\n",
    "    print(\"Em percentual  15 % \")\n",
    "    \n",
    "if salario >400 and salario <= 800:\n",
    "    aumento = salario * 0.12\n",
    "    novosalario = salario + aumento\n",
    "    print(novosalario)\n",
    "    print(aumento)\n",
    "    print(\"Em percentual: 12 % \")\n",
    "    \n",
    "    \n",
    "elif salario > 800 and salario <= 1200:\n",
    "    aumento = salario * 0.10\n",
    "    novosalario = salario + aumento\n",
    "    print(novosalario)\n",
    "    print(aumento)\n",
    "    print(\"Em percentual: 10 %\")\n",
    "    \n",
    "elif salario > 1200 and salario <= 2000:\n",
    "    aumento = salario * 0.07\n",
    "    novosalario = salario + aumento\n",
    "    print(salario)\n",
    "    print(aumento)\n",
    "    print(\"Em percentual: 7 %\")\n",
    "    \n",
    "    \n",
    "elif salario > 2000:\n",
    "    aumento = salario * 0.04\n",
    "    novosalario = salario + aumento\n",
    "    print(novosalario)\n",
    "    print(aumento)\n",
    "    print(\"Em percentual: 4 %\")\n",
    "    \n"
   ]
  },
  {
   "cell_type": "code",
   "execution_count": 30,
   "metadata": {},
   "outputs": [
    {
     "name": "stdout",
     "output_type": "stream",
     "text": [
      "2\n",
      "4\n",
      "6\n",
      "8\n",
      "10\n",
      "12\n",
      "14\n",
      "16\n",
      "18\n",
      "20\n",
      "22\n",
      "24\n",
      "26\n",
      "28\n",
      "30\n",
      "32\n",
      "34\n",
      "36\n",
      "38\n",
      "40\n",
      "42\n",
      "44\n",
      "46\n",
      "48\n",
      "50\n",
      "52\n",
      "54\n",
      "56\n",
      "58\n",
      "60\n",
      "62\n",
      "64\n",
      "66\n",
      "68\n",
      "70\n",
      "72\n",
      "74\n",
      "76\n",
      "78\n",
      "80\n",
      "82\n",
      "84\n",
      "86\n",
      "88\n",
      "90\n",
      "92\n",
      "94\n",
      "96\n",
      "98\n",
      "100\n"
     ]
    }
   ],
   "source": [
    "for i in range(2,101, 2):\n",
    "    print(i)"
   ]
  },
  {
   "cell_type": "code",
   "execution_count": null,
   "metadata": {},
   "outputs": [],
   "source": []
  }
 ],
 "metadata": {
  "kernelspec": {
   "display_name": "Python 3",
   "language": "python",
   "name": "python3"
  },
  "language_info": {
   "codemirror_mode": {
    "name": "ipython",
    "version": 3
   },
   "file_extension": ".py",
   "mimetype": "text/x-python",
   "name": "python",
   "nbconvert_exporter": "python",
   "pygments_lexer": "ipython3",
   "version": "3.6.4"
  }
 },
 "nbformat": 4,
 "nbformat_minor": 2
}
