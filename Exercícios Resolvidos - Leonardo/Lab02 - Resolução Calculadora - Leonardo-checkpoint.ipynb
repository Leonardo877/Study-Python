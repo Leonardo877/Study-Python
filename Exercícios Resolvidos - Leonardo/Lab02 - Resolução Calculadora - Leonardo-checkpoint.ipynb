{
 "cells": [
  {
   "cell_type": "markdown",
   "metadata": {},
   "source": [
    "# Calculadora"
   ]
  },
  {
   "cell_type": "code",
   "execution_count": 18,
   "metadata": {},
   "outputs": [
    {
     "name": "stdout",
     "output_type": "stream",
     "text": [
      "Digite a Operação que deseja realizar na calculadora. 1-Adicão, 2- Subtração, 3- Multiplicação, 4-Divisão3\n",
      "Digite o valor1: 90\n",
      "Digite o valor2: 2\n",
      "O resultado da sua multiplicação é 180\n"
     ]
    }
   ],
   "source": [
    "operacao = int(input(\"Digite a Operação que deseja realizar na calculadora. 1-Adicão, 2- Subtração, 3- Multiplicação, 4-Divisão\"))\n",
    "valor1 = int(input(\"Digite o valor1: \"))\n",
    "valor2 = int(input(\"Digite o valor2: \"))\n",
    "\n",
    "\n",
    "if operacao == 1:\n",
    "    valor = valor1 + valor1\n",
    "    print(\"O resultado da sua adição é: \",valor)\n",
    "elif operacao ==2:\n",
    "    valor = (valor1 - valor2)\n",
    "    print(\"O resultado da sua subtração é:\",valor)\n",
    "elif operacao ==3:\n",
    "    valor = (valor1 * valor2)\n",
    "    print (\"O resultado da sua multiplicação é\",valor)\n",
    "elif operacao == 4:\n",
    "    valor = (valor1 / valor2)\n",
    "    print(\"O resultado da sua divisão é:\",valor)\n",
    "else:\n",
    "    print(\"Amigo, operação inválida!\\n Digite os seguintes valores: 1-Adicão, 2- Subtração, 3- Multiplicação, 4-Divisão\")"
   ]
  },
  {
   "cell_type": "code",
   "execution_count": null,
   "metadata": {},
   "outputs": [],
   "source": []
  }
 ],
 "metadata": {
  "kernelspec": {
   "display_name": "Python 3",
   "language": "python",
   "name": "python3"
  },
  "language_info": {
   "codemirror_mode": {
    "name": "ipython",
    "version": 3
   },
   "file_extension": ".py",
   "mimetype": "text/x-python",
   "name": "python",
   "nbconvert_exporter": "python",
   "pygments_lexer": "ipython3",
   "version": "3.6.4"
  }
 },
 "nbformat": 4,
 "nbformat_minor": 2
}
